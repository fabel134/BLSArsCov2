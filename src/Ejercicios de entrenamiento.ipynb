{
 "cells": [
  {
   "cell_type": "code",
   "execution_count": 7,
   "metadata": {},
   "outputs": [
    {
     "data": {
      "text/plain": [
       "3"
      ]
     },
     "execution_count": 7,
     "metadata": {},
     "output_type": "execute_result"
    }
   ],
   "source": [
    "7*3\n",
    "2+1"
   ]
  },
  {
   "cell_type": "markdown",
   "metadata": {},
   "source": [
    "#Example\n",
    "\n",
    "1. Get funding.\n",
    "2. Do work.\n",
    "*Desing Experiment\n",
    "*Collect Data\n",
    "*Analyze\n",
    "3. Write up\n",
    "4. Publish."
   ]
  },
  {
   "cell_type": "code",
   "execution_count": 8,
   "metadata": {},
   "outputs": [
    {
     "name": "stdout",
     "output_type": "stream",
     "text": [
      "54\n"
     ]
    }
   ],
   "source": [
    "x = 6 * 7 + 12\n",
    "print(x)\n",
    "\n"
   ]
  },
  {
   "cell_type": "markdown",
   "metadata": {},
   "source": [
    "Swapping Values\n",
    "Llene la tabla que muestra los valores de las variables en este programa después de que se ejecute cada declaración. \n",
    "# Command  # Value of x   # Value of y   # Value of swap #\n",
    "x = 1.0    #  1.0         # no           # no            #\n",
    "y = 3.0    #  3.0         # 3.0          # no            #\n",
    "swap = x   #  1.0         # 1.0          # 1.0           #\n",
    "x = y      #  3.0         # 3.0          # 1.0           #\n",
    "y = swap   #  3.0         # 3.0          # 1.0           #\n",
    "\n",
    "\n"
   ]
  },
  {
   "cell_type": "markdown",
   "metadata": {},
   "source": [
    "Predicción de valores\n",
    "¿Cuál es el valor final de la posición en el programa a continuación? (Intente predecir el valor sin ejecutar el programa, luego verifique su predicción).\n",
    "\n",
    "initial = 'left'\n",
    "position = initial\n",
    "initial = 'right'\n",
    "\n",
    "R= right\n",
    "La variable \"positión\" conserva su valor de cadena de 'left'.\n",
    "\n"
   ]
  },
  {
   "cell_type": "code",
   "execution_count": 11,
   "metadata": {},
   "outputs": [
    {
     "name": "stdout",
     "output_type": "stream",
     "text": [
      "right\n"
     ]
    }
   ],
   "source": [
    "initial = 'left'\n",
    "position = initial\n",
    "initial = 'right'\n"
   ]
  },
  {
   "cell_type": "markdown",
   "metadata": {},
   "source": [
    "Desafío\n",
    "Si asigna a = 123, ¿qué sucede si intenta obtener el segundo dígito de a a través de [1]?\n",
    "\n",
    "Se imprimira el numero dos, porqué recordemos que python cuenta los valores iniciando con 0\n",
    "\n",
    " incorrecto: Si desea el enésimo dígito de un número, puede convertirlo en una cadena utilizando la función incorporada \"str\" y luego realizar una operación de índice en esa cadena\n",
    " si se hace como lo pense nos va a dar error.\n",
    " \n",
    " INCORRECTO!!!!\n",
    " a = 123\n",
    "print(a[1])\n"
   ]
  },
  {
   "cell_type": "code",
   "execution_count": 12,
   "metadata": {},
   "outputs": [
    {
     "name": "stdout",
     "output_type": "stream",
     "text": [
      "2\n"
     ]
    }
   ],
   "source": [
    "#Forma correcta de imprimir una cadena de valores.\n",
    "a = str(123)\n",
    "print(a[1])"
   ]
  },
  {
   "cell_type": "markdown",
   "metadata": {},
   "source": [
    "Choosing a Name\n",
    "\n",
    "Which is a better variable name, m, min, or minutes? Why? Hint: think about which code you would rather inherit from someone who is leaving the lab:\n",
    "\n",
    "    1. ts = m * 60 + s\n",
    "    2. tot_sec = min * 60 + sec\n",
    "    3. total_seconds = minutes * 60 + seconds\n",
    "A mi punto de vista el mejor es el tercero debido que tenemos mejores etiquetas para las varibles los cual en un futuro le puden servir a alguien.\n"
   ]
  },
  {
   "cell_type": "code",
   "execution_count": 13,
   "metadata": {},
   "outputs": [
    {
     "name": "stdout",
     "output_type": "stream",
     "text": [
      "atom_name[1:3] is: ar\n"
     ]
    }
   ],
   "source": [
    "#What does the following program print?\n",
    "\n",
    "\n",
    "atom_name = 'carbon'\n",
    "print('atom_name[1:3] is:', atom_name[1:3])\n"
   ]
  },
  {
   "cell_type": "markdown",
   "metadata": {},
   "source": [
    "la salida de este script es \n",
    "arb is:arb\n",
    "\n",
    "Nota: Abel No olvides que esta entre parentesis y esto solo nos dice que va a imprimir todo lo que este en parentesis lo cual nos hace tener la salida anterior."
   ]
  },
  {
   "cell_type": "markdown",
   "metadata": {},
   "source": [
    "****Data Types and Type Conversion****"
   ]
  },
  {
   "cell_type": "markdown",
   "metadata": {},
   "source": [
    "Las cadenas tienen una longitud, pero los números no."
   ]
  },
  {
   "cell_type": "markdown",
   "metadata": {},
   "source": [
    "What type of value is 3.4? How can you find out?\n",
    "\n",
    "Es una float porqué representa numeros reales"
   ]
  },
  {
   "cell_type": "code",
   "execution_count": 1,
   "metadata": {},
   "outputs": [
    {
     "name": "stdout",
     "output_type": "stream",
     "text": [
      "<class 'float'>\n"
     ]
    }
   ],
   "source": [
    "print(type(3.4))\n",
    "\n",
    "#esta es la forma de saber que tipo de dato tenemos."
   ]
  },
  {
   "cell_type": "markdown",
   "metadata": {},
   "source": [
    "What type of value is 3.25 + 4?\n",
    "\n",
    "El tipo de valor es \"float\" porque son numeros reales.\n"
   ]
  },
  {
   "cell_type": "markdown",
   "metadata": {},
   "source": [
    "¿Qué tipo de valor (integer, floating point number, or character string) usaría para representar cada uno de los siguientes? Trate de encontrar más de una buena respuesta para cada problema. Por ejemplo, en el n. ° 1, ¿cuándo tendría más sentido contar días con una variable de punto flotante que usar un número entero?\n",
    "\n",
    "     Número de días desde el inicio del año: (int)\n",
    "     Tiempo transcurrido desde el inicio del año hasta ahora en días. (float)\n",
    "     Número de serie de un equipo de laboratorio.(STR) \n",
    "     La edad de una muestra de laboratorio (int) (str)\n",
    "     Población actual de una ciudad. (int) la respuesta correcta es float por se grandes cantidades\n",
    "     Población media de una ciudad a lo largo del tiempo.(float)\n",
    "     "
   ]
  },
  {
   "cell_type": "markdown",
   "metadata": {},
   "source": [
    "Si \"num_subjects\" es el número de sujetos que participan en un estudio y \"num_per_survey\" es el número que puede participar en una sola encuesta, escriba una expresión que calcule la cantidad de encuestas necesarias para llegar a todos una vez.\n",
    "\n"
   ]
  },
  {
   "cell_type": "code",
   "execution_count": null,
   "metadata": {},
   "outputs": [],
   "source": []
  },
  {
   "cell_type": "code",
   "execution_count": 21,
   "metadata": {},
   "outputs": [
    {
     "name": "stdout",
     "output_type": "stream",
     "text": [
      "num_total: 24.0\n"
     ]
    }
   ],
   "source": [
    "num_per_survey = float (42)\n",
    "num_subjects = float (1000)\n",
    "num_total= (num_subjects//num_per_survey)+1\n",
    "\n",
    "print(\"num_total:\", num_total)\n",
    "\n",
    "# se le agrega el \"+1\" porque cuando hace el calculo nos regresa el calculo en numero entero\n",
    "#y si multiplicamos 14(42) son 588 personas y necesitamos 600 entonces ponerle el \"*1\" nos ayuda a redondear\n",
    "#el numero y darnos un numero mas certero, si multplicamos 15(42) es igual a 630, asi nadie quedaria fuera de\n",
    "#las encuestas."
   ]
  },
  {
   "cell_type": "markdown",
   "metadata": {},
   "source": [
    "En el siguien scripts responde las siguientes preguntas\n",
    "¿Qué es lo que hace?\n",
    "\n",
    "¿Por qué crees que hace eso?"
   ]
  },
  {
   "cell_type": "code",
   "execution_count": 4,
   "metadata": {},
   "outputs": [
    {
     "name": "stdout",
     "output_type": "stream",
     "text": [
      "fractional string to int: 3\n"
     ]
    }
   ],
   "source": [
    "print(\"fractional string to int:\", int(\"3.4\"))"
   ]
  },
  {
   "cell_type": "markdown",
   "metadata": {},
   "source": [
    "Podria pensar que nos marca el error porqué utilizamos la \"\" y python lo lee como si fuera una frase y no un numero.\n",
    "\n",
    "Sin embargo...\n",
    "**¿Qué espera que haga este programa? No sería tan irrazonable esperar que el comando int de Python 3 convierta la cadena \"3.4\" a 3.4 y una conversión de tipo adicional a 3. Después de todo, Python 3 realiza mucha otra magia, ¿no es esa parte de su encanto? ?\n",
    "\n",
    "**Sin embargo, Python 3 arroja un error. ¿Por qué? Ser consistente, posiblemente. Si le pide a Python que realice dos encasillamientos consecutivos, debe convertirlo explícitamente en código.**\n"
   ]
  },
  {
   "cell_type": "code",
   "execution_count": 5,
   "metadata": {},
   "outputs": [
    {
     "name": "stdout",
     "output_type": "stream",
     "text": [
      "fractional string to int: 3\n"
     ]
    }
   ],
   "source": [
    "print(\"fractional string to int:\", int(float(\"3.4\")))\n",
    "\n"
   ]
  },
  {
   "cell_type": "markdown",
   "metadata": {},
   "source": [
    "Preguntas\n",
    "\n",
    "¿Por qué para float() tenemos que poner unas \"\" y para int() no?\n",
    "**Tengo entendido que si le pido a Python encasillamientos consecutivos como: int(float(\"3.4\")) lo que hara este es primero que float() lo convertira en un numero\n",
    "entero y luego int() lo convertira en un numero entero."
   ]
  },
  {
   "cell_type": "markdown",
   "metadata": {},
   "source": [
    "**Arithmetic with Different Types"
   ]
  },
  {
   "cell_type": "markdown",
   "metadata": {},
   "source": [
    "Which of the following will return the floating point number 2.0? Note: there may be more than one right answer."
   ]
  },
  {
   "cell_type": "code",
   "execution_count": null,
   "metadata": {},
   "outputs": [],
   "source": [
    "first = 1.0\n",
    "second = \"1\"\n",
    "third = \"1.1\""
   ]
  },
  {
   "cell_type": "markdown",
   "metadata": {},
   "source": [
    "1. first + float(second) **SI\n",
    "2. float(second) + float(third)\n",
    "3. first + int(third)\n",
    "4. first + int(float(third)) **Si\n",
    "5. int(first) + int(float(third)) **Si\n",
    "6. 2.0 * second\n",
    "\n",
    "#Answer: 1 and 4"
   ]
  },
  {
   "cell_type": "markdown",
   "metadata": {},
   "source": [
    "**Complex Numbers"
   ]
  },
  {
   "cell_type": "markdown",
   "metadata": {},
   "source": [
    "Why do you think Python uses j instead of i for the imaginary part?\n",
    "Utiliza j porqué seguramente i python lo entenderia como otro modulo.\n",
    "What do you expect 1+2j + 3 to produce?\n",
    "Produce un error por que los numero imaginarios estan dados por dos partes una parte real y una imaginaria.\n",
    "Respuesta correcta: python lo que hara es sumar los numero reales y los imaginarios, entonces tendriamos 4+2j\n",
    "What do you expect 4j to be? What about 4 j or 4 + j?\n",
    "Eso no lo leeria como un numero y daria error por que J depende de un un numero.\n",
    "Nota:para poner 1 como numero imaginario es necesario poner \"1j\" y no solo la \"j\""
   ]
  },
  {
   "cell_type": "code",
   "execution_count": 14,
   "metadata": {},
   "outputs": [
    {
     "name": "stdout",
     "output_type": "stream",
     "text": [
      "4.0\n",
      "1.0\n"
     ]
    }
   ],
   "source": [
    "a=4+1j\n",
    "print(a.real)\n",
    "print(a.imag)"
   ]
  },
  {
   "cell_type": "markdown",
   "metadata": {},
   "source": [
    "¿Que pasa  cuando?\n",
    "Explique en términos simples el orden de las operaciones en el siguiente programa: cuándo ocurre la suma, cuándo ocurre la resta, cuándo se llama a cada función, etc"
   ]
  },
  {
   "cell_type": "code",
   "execution_count": 15,
   "metadata": {},
   "outputs": [
    {
     "name": "stdout",
     "output_type": "stream",
     "text": [
      "2.6\n"
     ]
    }
   ],
   "source": [
    "radiance = 1.0\n",
    "radiance = max(2.1, 2.0 + min(radiance, 1.1 * radiance - 0.5))\n",
    "\n",
    "print(radiance)"
   ]
  },
  {
   "cell_type": "markdown",
   "metadata": {},
   "source": [
    "primero ocurre la resta de radiance-0.5 posterior la multiplicacion por 1.1, luego el min entre radiance y la multplicacion y luego la suma delos valores restantes\n",
    "y hasta al ultimo es cuando nos da el numero maximo.\n",
    "1.1 * radiance = 1.1\n",
    "1.1 - 0.5 = 0.6\n",
    "min(radiance, 0.6) = 0.6\n",
    "2.0 + 0.6 = 2.6\n",
    "max(2.1, 2.6) = 2.6\n",
    "At the end, radiance = 2.\n",
    "\n",
    "¿Cuál es el valor final de \"Radiance\"?\n",
    "2.6\n",
    "\n",
    "**Pregunta \n",
    "\n",
    "Entonces pyhton de alguna manera sigue reglas matematicas para hacer las operaciones(primero los parentesis, etc etc)"
   ]
  },
  {
   "cell_type": "markdown",
   "metadata": {},
   "source": [
    "**Encuentra la diferencia"
   ]
  },
  {
   "cell_type": "markdown",
   "metadata": {},
   "source": [
    "1. Predice lo que imprimirá cada una de las declaraciones impresas en el programa siguiente.\n",
    "2. ¿Se ejecuta \"Max (len (rich), poor)\" o genera un mensaje de error? Si se ejecuta, ¿tiene algún sentido su resultado?"
   ]
  },
  {
   "cell_type": "code",
   "execution_count": 16,
   "metadata": {},
   "outputs": [
    {
     "name": "stdout",
     "output_type": "stream",
     "text": [
      "c\n",
      "tin\n",
      "4\n"
     ]
    }
   ],
   "source": [
    "easy_string = \"abc\"\n",
    "print(max(easy_string))\n",
    "rich = \"gold\"\n",
    "poor = \"tin\"\n",
    "print(max(rich, poor))\n",
    "print(max(len(rich), len(poor)))"
   ]
  },
  {
   "cell_type": "markdown",
   "metadata": {},
   "source": [
    "1. imprimira la letra C\n",
    "Lo que va a imprimir va a ser un error\n",
    " ** Pregunta**\n",
    "    ¿Por qué imprime a tin, deberia imprimir Gold, no?\n",
    "en la seguna va a imprimir 4\n"
   ]
  },
  {
   "cell_type": "markdown",
   "metadata": {},
   "source": [
    "¿Por qué no max y min devuelven None cuando no se les da ningún argumento?\n",
    "Porqué asi los lee el programa. no marca el error por qeu no hay nada"
   ]
  },
  {
   "cell_type": "markdown",
   "metadata": {},
   "source": [
    "Si Python comienza a contar desde cero y len devuelve el número de caracteres en una cadena, \n",
    "¿qué expresión de índice obtendrá el último carácter en el nombre de la cadena? \n",
    "name[len(name) - 1]"
   ]
  },
  {
   "cell_type": "code",
   "execution_count": 2,
   "metadata": {},
   "outputs": [
    {
     "name": "stdout",
     "output_type": "stream",
     "text": [
      "random base  T base index 3\n",
      "90.0\n"
     ]
    }
   ],
   "source": [
    "#Usando help math nos desplegará la pantalla de opciones para despejarnos cualquier duda\n",
    "#Jigsaw Puzzle (Parson’s Problem) Programming Example\n",
    "import math\n",
    "import random\n",
    "bases = \"ACTTGCTTGAC\"\n",
    "NumeroBases = len(bases)\n",
    "indx = random.randrange(NumeroBases)\n",
    "print(\"random base \", bases[indx], \"base index\", indx)\n",
    " \n",
    "#Que es randrange ?\n",
    "\n",
    "#What has your colleague forgotten to do?\n",
    "#Olvido que math lo importo como “m”\n",
    "\n",
    "#Ejercicio de los angulos\n",
    "import math as m\n",
    "angle = m.degrees(m.pi / 2)\n",
    "print(angle)\n",
    "\n"
   ]
  },
  {
   "cell_type": "code",
   "execution_count": 5,
   "metadata": {},
   "outputs": [
    {
     "name": "stdout",
     "output_type": "stream",
     "text": [
      "sin(pi/2) = 1.0\n",
      "sin(pi/2) = 1.0\n",
      "sin(pi/2) = 1.0\n"
     ]
    }
   ],
   "source": [
    "#There Are Many Ways To Import Libraries!\n",
    "#Match the following print statements with the appropriate library calls.\n",
    "\n",
    "\n",
    "1.\n",
    "from math import sin, pi\n",
    "from math import *\n",
    "print(\"sin(pi/2) =\", sin(pi/2)) \n",
    "2.\n",
    "import math as m\n",
    "print(\"sin(pi/2) =\", m.sin(m.pi/2))\n",
    "\n",
    "3.\n",
    "import math\n",
    "print(\"sin(pi/2) =\", math.sin(math.pi/2))\n",
    "\n",
    "\n"
   ]
  },
  {
   "cell_type": "code",
   "execution_count": 6,
   "metadata": {},
   "outputs": [
    {
     "name": "stdout",
     "output_type": "stream",
     "text": [
      "90.0\n"
     ]
    }
   ],
   "source": [
    "#complete los ejercicicios \n",
    "\n",
    "from math import degrees,pi\n",
    "angle = degrees(pi / 2)\n",
    "print(angle)"
   ]
  },
  {
   "cell_type": "code",
   "execution_count": 8,
   "metadata": {},
   "outputs": [
    {
     "data": {
      "text/plain": [
       "2.302585092994046"
      ]
     },
     "execution_count": 8,
     "metadata": {},
     "output_type": "execute_result"
    }
   ],
   "source": [
    "from math import log\n",
    "log(10)\n",
    "\n",
    "#No existe el log (0) "
   ]
  },
  {
   "cell_type": "code",
   "execution_count": null,
   "metadata": {},
   "outputs": [],
   "source": []
  }
 ],
 "metadata": {
  "kernelspec": {
   "display_name": "Python 3",
   "language": "python",
   "name": "python3"
  },
  "language_info": {
   "codemirror_mode": {
    "name": "ipython",
    "version": 3
   },
   "file_extension": ".py",
   "mimetype": "text/x-python",
   "name": "python",
   "nbconvert_exporter": "python",
   "pygments_lexer": "ipython3",
   "version": "3.8.3"
  }
 },
 "nbformat": 4,
 "nbformat_minor": 4
}
