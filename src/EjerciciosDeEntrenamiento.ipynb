{
 "cells": [
  {
   "cell_type": "code",
   "execution_count": null,
   "metadata": {},
   "outputs": [],
   "source": [
    "7*3\n",
    "2+1"
   ]
  },
  {
   "cell_type": "markdown",
   "metadata": {},
   "source": [
    "#Example\n",
    "\n",
    "1. Get funding.\n",
    "2. Do work.\n",
    "*Desing Experiment\n",
    "*Collect Data\n",
    "*Analyze\n",
    "3. Write up\n",
    "4. Publish."
   ]
  },
  {
   "cell_type": "code",
   "execution_count": null,
   "metadata": {},
   "outputs": [],
   "source": [
    "x = 6 * 7 + 12\n",
    "print(x)\n",
    "\n"
   ]
  },
  {
   "cell_type": "markdown",
   "metadata": {},
   "source": [
    "Swapping Values\n",
    "Llene la tabla que muestra los valores de las variables en este programa después de que se ejecute cada declaración. \n",
    "# Command  # Value of x   # Value of y   # Value of swap #\n",
    "x = 1.0    #  1.0         # no           # no            #\n",
    "y = 3.0    #  3.0         # 3.0          # no            #\n",
    "swap = x   #  1.0         # 1.0          # 1.0           #\n",
    "x = y      #  3.0         # 3.0          # 1.0           #\n",
    "y = swap   #  3.0         # 3.0          # 1.0           #\n",
    "\n",
    "\n"
   ]
  },
  {
   "cell_type": "markdown",
   "metadata": {},
   "source": [
    "Predicción de valores\n",
    "¿Cuál es el valor final de la posición en el programa a continuación? (Intente predecir el valor sin ejecutar el programa, luego verifique su predicción).\n",
    "\n",
    "initial = 'left'\n",
    "position = initial\n",
    "initial = 'right'\n",
    "\n",
    "R= right\n",
    "La variable \"positión\" conserva su valor de cadena de 'left'.\n",
    "\n"
   ]
  },
  {
   "cell_type": "code",
   "execution_count": null,
   "metadata": {},
   "outputs": [],
   "source": [
    "initial = 'left'\n",
    "position = initial\n",
    "initial = 'right'\n"
   ]
  },
  {
   "cell_type": "markdown",
   "metadata": {},
   "source": [
    "Desafío\n",
    "Si asigna a = 123, ¿qué sucede si intenta obtener el segundo dígito de a a través de [1]?\n",
    "\n",
    "Se imprimira el numero dos, porqué recordemos que python cuenta los valores iniciando con 0\n",
    "\n",
    " incorrecto: Si desea el enésimo dígito de un número, puede convertirlo en una cadena utilizando la función incorporada \"str\" y luego realizar una operación de índice en esa cadena\n",
    " si se hace como lo pense nos va a dar error.\n",
    " \n",
    " INCORRECTO!!!!\n",
    " a = 123\n",
    "print(a[1])\n"
   ]
  },
  {
   "cell_type": "code",
   "execution_count": null,
   "metadata": {},
   "outputs": [],
   "source": [
    "#Forma correcta de imprimir una cadena de valores.\n",
    "a = str(123)\n",
    "print(a[1])"
   ]
  },
  {
   "cell_type": "markdown",
   "metadata": {},
   "source": [
    "Choosing a Name\n",
    "\n",
    "Which is a better variable name, m, min, or minutes? Why? Hint: think about which code you would rather inherit from someone who is leaving the lab:\n",
    "\n",
    "    1. ts = m * 60 + s\n",
    "    2. tot_sec = min * 60 + sec\n",
    "    3. total_seconds = minutes * 60 + seconds\n",
    "A mi punto de vista el mejor es el tercero debido que tenemos mejores etiquetas para las varibles los cual en un futuro le puden servir a alguien.\n"
   ]
  },
  {
   "cell_type": "code",
   "execution_count": null,
   "metadata": {},
   "outputs": [],
   "source": [
    "#What does the following program print?\n",
    "\n",
    "\n",
    "atom_name = 'carbon'\n",
    "print('atom_name[1:3] is:', atom_name[1:3])\n"
   ]
  },
  {
   "cell_type": "markdown",
   "metadata": {},
   "source": [
    "la salida de este script es \n",
    "arb is:arb\n",
    "\n",
    "Nota: Abel No olvides que esta entre parentesis y esto solo nos dice que va a imprimir todo lo que este en parentesis lo cual nos hace tener la salida anterior."
   ]
  },
  {
   "cell_type": "markdown",
   "metadata": {},
   "source": [
    "****Data Types and Type Conversion****"
   ]
  },
  {
   "cell_type": "markdown",
   "metadata": {},
   "source": [
    "Las cadenas tienen una longitud, pero los números no."
   ]
  },
  {
   "cell_type": "markdown",
   "metadata": {},
   "source": [
    "What type of value is 3.4? How can you find out?\n",
    "\n",
    "Es una float porqué representa numeros reales"
   ]
  },
  {
   "cell_type": "code",
   "execution_count": null,
   "metadata": {},
   "outputs": [],
   "source": [
    "print(type(3.4))\n",
    "\n",
    "#esta es la forma de saber que tipo de dato tenemos."
   ]
  },
  {
   "cell_type": "markdown",
   "metadata": {},
   "source": [
    "What type of value is 3.25 + 4?\n",
    "\n",
    "El tipo de valor es \"float\" porque son numeros reales.\n"
   ]
  },
  {
   "cell_type": "markdown",
   "metadata": {},
   "source": [
    "¿Qué tipo de valor (integer, floating point number, or character string) usaría para representar cada uno de los siguientes? Trate de encontrar más de una buena respuesta para cada problema. Por ejemplo, en el n. ° 1, ¿cuándo tendría más sentido contar días con una variable de punto flotante que usar un número entero?\n",
    "\n",
    "     Número de días desde el inicio del año: (int)\n",
    "     Tiempo transcurrido desde el inicio del año hasta ahora en días. (float)\n",
    "     Número de serie de un equipo de laboratorio.(STR) \n",
    "     La edad de una muestra de laboratorio (int) (str)\n",
    "     Población actual de una ciudad. (int) la respuesta correcta es float por se grandes cantidades\n",
    "     Población media de una ciudad a lo largo del tiempo.(float)\n",
    "     "
   ]
  },
  {
   "cell_type": "markdown",
   "metadata": {},
   "source": [
    "Si \"num_subjects\" es el número de sujetos que participan en un estudio y \"num_per_survey\" es el número que puede participar en una sola encuesta, escriba una expresión que calcule la cantidad de encuestas necesarias para llegar a todos una vez.\n",
    "\n"
   ]
  },
  {
   "cell_type": "code",
   "execution_count": null,
   "metadata": {},
   "outputs": [],
   "source": []
  },
  {
   "cell_type": "code",
   "execution_count": null,
   "metadata": {},
   "outputs": [],
   "source": [
    "num_per_survey = float (42)\n",
    "num_subjects = float (1000)\n",
    "num_total= (num_subjects//num_per_survey)+1\n",
    "\n",
    "print(\"num_total:\", num_total)\n",
    "\n",
    "# se le agrega el \"+1\" porque cuando hace el calculo nos regresa el calculo en numero entero\n",
    "#y si multiplicamos 14(42) son 588 personas y necesitamos 600 entonces ponerle el \"*1\" nos ayuda a redondear\n",
    "#el numero y darnos un numero mas certero, si multplicamos 15(42) es igual a 630, asi nadie quedaria fuera de\n",
    "#las encuestas."
   ]
  },
  {
   "cell_type": "markdown",
   "metadata": {},
   "source": [
    "En el siguien scripts responde las siguientes preguntas\n",
    "¿Qué es lo que hace?\n",
    "\n",
    "¿Por qué crees que hace eso?"
   ]
  },
  {
   "cell_type": "code",
   "execution_count": null,
   "metadata": {},
   "outputs": [],
   "source": [
    "print(\"fractional string to int:\", int(\"3.4\"))"
   ]
  },
  {
   "cell_type": "markdown",
   "metadata": {},
   "source": [
    "Podria pensar que nos marca el error porqué utilizamos la \"\" y python lo lee como si fuera una frase y no un numero.\n",
    "\n",
    "Sin embargo...\n",
    "**¿Qué espera que haga este programa? No sería tan irrazonable esperar que el comando int de Python 3 convierta la cadena \"3.4\" a 3.4 y una conversión de tipo adicional a 3. Después de todo, Python 3 realiza mucha otra magia, ¿no es esa parte de su encanto? ?\n",
    "\n",
    "**Sin embargo, Python 3 arroja un error. ¿Por qué? Ser consistente, posiblemente. Si le pide a Python que realice dos encasillamientos consecutivos, debe convertirlo explícitamente en código.**\n"
   ]
  },
  {
   "cell_type": "code",
   "execution_count": null,
   "metadata": {},
   "outputs": [],
   "source": [
    "print(\"fractional string to int:\", int(float(\"3.4\")))\n",
    "\n"
   ]
  },
  {
   "cell_type": "markdown",
   "metadata": {},
   "source": [
    "Preguntas\n",
    "\n",
    "¿Por qué para float() tenemos que poner unas \"\" y para int() no?\n",
    "**Tengo entendido que si le pido a Python encasillamientos consecutivos como: int(float(\"3.4\")) lo que hara este es primero que float() lo convertira en un numero\n",
    "entero y luego int() lo convertira en un numero entero."
   ]
  },
  {
   "cell_type": "markdown",
   "metadata": {},
   "source": [
    "**Arithmetic with Different Types"
   ]
  },
  {
   "cell_type": "markdown",
   "metadata": {},
   "source": [
    "Which of the following will return the floating point number 2.0? Note: there may be more than one right answer."
   ]
  },
  {
   "cell_type": "code",
   "execution_count": null,
   "metadata": {},
   "outputs": [],
   "source": [
    "first = 1.0\n",
    "second = \"1\"\n",
    "third = \"1.1\""
   ]
  },
  {
   "cell_type": "markdown",
   "metadata": {},
   "source": [
    "1. first + float(second) **SI\n",
    "2. float(second) + float(third)\n",
    "3. first + int(third)\n",
    "4. first + int(float(third)) **Si\n",
    "5. int(first) + int(float(third)) **Si\n",
    "6. 2.0 * second\n",
    "\n",
    "#Answer: 1 and 4"
   ]
  },
  {
   "cell_type": "markdown",
   "metadata": {},
   "source": [
    "**Complex Numbers"
   ]
  },
  {
   "cell_type": "markdown",
   "metadata": {},
   "source": [
    "Why do you think Python uses j instead of i for the imaginary part?\n",
    "Utiliza j porqué seguramente i python lo entenderia como otro modulo.\n",
    "What do you expect 1+2j + 3 to produce?\n",
    "Produce un error por que los numero imaginarios estan dados por dos partes una parte real y una imaginaria.\n",
    "Respuesta correcta: python lo que hara es sumar los numero reales y los imaginarios, entonces tendriamos 4+2j\n",
    "What do you expect 4j to be? What about 4 j or 4 + j?\n",
    "Eso no lo leeria como un numero y daria error por que J depende de un un numero.\n",
    "Nota:para poner 1 como numero imaginario es necesario poner \"1j\" y no solo la \"j\""
   ]
  },
  {
   "cell_type": "code",
   "execution_count": null,
   "metadata": {},
   "outputs": [],
   "source": [
    "a=4+1j\n",
    "print(a.real)\n",
    "print(a.imag)"
   ]
  },
  {
   "cell_type": "markdown",
   "metadata": {},
   "source": [
    "¿Que pasa  cuando?\n",
    "Explique en términos simples el orden de las operaciones en el siguiente programa: cuándo ocurre la suma, cuándo ocurre la resta, cuándo se llama a cada función, etc"
   ]
  },
  {
   "cell_type": "code",
   "execution_count": null,
   "metadata": {},
   "outputs": [],
   "source": [
    "radiance = 1.0\n",
    "radiance = max(2.1, 2.0 + min(radiance, 1.1 * radiance - 0.5))\n",
    "\n",
    "print(radiance)"
   ]
  },
  {
   "cell_type": "markdown",
   "metadata": {},
   "source": [
    "primero ocurre la resta de radiance-0.5 posterior la multiplicacion por 1.1, luego el min entre radiance y la multplicacion y luego la suma delos valores restantes\n",
    "y hasta al ultimo es cuando nos da el numero maximo.\n",
    "1.1 * radiance = 1.1\n",
    "1.1 - 0.5 = 0.6\n",
    "min(radiance, 0.6) = 0.6\n",
    "2.0 + 0.6 = 2.6\n",
    "max(2.1, 2.6) = 2.6\n",
    "At the end, radiance = 2.\n",
    "\n",
    "¿Cuál es el valor final de \"Radiance\"?\n",
    "2.6\n",
    "\n",
    "**Pregunta \n",
    "\n",
    "Entonces pyhton de alguna manera sigue reglas matematicas para hacer las operaciones(primero los parentesis, etc etc)"
   ]
  },
  {
   "cell_type": "markdown",
   "metadata": {},
   "source": [
    "**Encuentra la diferencia"
   ]
  },
  {
   "cell_type": "markdown",
   "metadata": {},
   "source": [
    "1. Predice lo que imprimirá cada una de las declaraciones impresas en el programa siguiente.\n",
    "2. ¿Se ejecuta \"Max (len (rich), poor)\" o genera un mensaje de error? Si se ejecuta, ¿tiene algún sentido su resultado?"
   ]
  },
  {
   "cell_type": "code",
   "execution_count": null,
   "metadata": {},
   "outputs": [],
   "source": [
    "easy_string = \"abc\"\n",
    "print(max(easy_string))\n",
    "rich = \"gold\"\n",
    "poor = \"tin\"\n",
    "print(max(rich, poor))\n",
    "print(max(len(rich), len(poor)))"
   ]
  },
  {
   "cell_type": "markdown",
   "metadata": {},
   "source": [
    "1. imprimira la letra C\n",
    "Lo que va a imprimir va a ser un error\n",
    " ** Pregunta**\n",
    "    ¿Por qué imprime a tin, deberia imprimir Gold, no?\n",
    "en la seguna va a imprimir 4\n",
    "\n",
    "\n",
    "**BUSCAR Lexico Grafico**\n"
   ]
  },
  {
   "cell_type": "markdown",
   "metadata": {},
   "source": [
    "¿Por qué no max y min devuelven None cuando no se les da ningún argumento?\n",
    "Porqué asi los lee el programa. no marca el error por que no hay nada"
   ]
  },
  {
   "cell_type": "markdown",
   "metadata": {},
   "source": [
    "Si Python comienza a contar desde cero y len devuelve el número de caracteres en una cadena, \n",
    "¿qué expresión de índice obtendrá el último carácter en el nombre de la cadena? \n",
    "name[len(name) - 1]"
   ]
  },
  {
   "cell_type": "code",
   "execution_count": null,
   "metadata": {},
   "outputs": [],
   "source": [
    "#Usando help math nos desplegará la pantalla de opciones para despejarnos cualquier duda\n",
    "#Jigsaw Puzzle (Parson’s Problem) Programming Example\n",
    "import math\n",
    "import random\n",
    "bases = \"ACTTGCTTGAC\"\n",
    "NumeroBases = len(bases)\n",
    "indx = random.randrange(NumeroBases)\n",
    "print(\"random base \", bases[indx], \"base index\", indx)\n",
    " \n",
    "#Que es randrange ?\n",
    "#Python function, in random — Generate pseudo-random numbers\n",
    "\n",
    "#What has your colleague forgotten to do?\n",
    "#Olvido que math lo importo como “m”\n",
    "\n",
    "#Ejercicio de los angulos\n",
    "import math as m\n",
    "angle = m.degrees(m.pi / 2)\n",
    "print(angle)\n",
    "\n"
   ]
  },
  {
   "cell_type": "code",
   "execution_count": null,
   "metadata": {},
   "outputs": [],
   "source": [
    "#There Are Many Ways To Import Libraries!\n",
    "#Match the following print statements with the appropriate library calls.\n",
    "\n",
    "\n",
    "1.\n",
    "from math import sin, pi\n",
    "from math import *\n",
    "print(\"sin(pi/2) =\", sin(pi/2)) \n",
    "2.\n",
    "import math as m\n",
    "print(\"sin(pi/2) =\", m.sin(m.pi/2))\n",
    "\n",
    "3.\n",
    "import math\n",
    "print(\"sin(pi/2) =\", math.sin(math.pi/2))\n",
    "\n",
    "\n"
   ]
  },
  {
   "cell_type": "code",
   "execution_count": null,
   "metadata": {},
   "outputs": [],
   "source": [
    "#complete los ejercicicios \n",
    "\n",
    "from math import degrees,pi\n",
    "angle = degrees(pi / 2)\n",
    "print(angle)"
   ]
  },
  {
   "cell_type": "code",
   "execution_count": null,
   "metadata": {},
   "outputs": [],
   "source": [
    "from math import log\n",
    "log(10)\n",
    "\n",
    "#No existe el log (0) "
   ]
  },
  {
   "cell_type": "code",
   "execution_count": null,
   "metadata": {},
   "outputs": [],
   "source": []
  },
  {
   "cell_type": "code",
   "execution_count": null,
   "metadata": {},
   "outputs": [],
   "source": []
  },
  {
   "cell_type": "code",
   "execution_count": null,
   "metadata": {},
   "outputs": [],
   "source": [
    "Escribe una expresión para encontrar el PIB per cápita de Serbia en 2007.\n",
    "print(df.loc['Serbia', 'gdpPercap_2007'])\n",
    "No me ha quedado para nada claro para que sirve loc y iloc\n",
    "\n",
    "\n"
   ]
  },
  {
   "cell_type": "code",
   "execution_count": null,
   "metadata": {},
   "outputs": [],
   "source": [
    "first = pd.read_csv('data/gapminder_all.csv', index_col='country')\n",
    "este script te dice que lee un archivo y que lo imprima por la columna \"country\"\n",
    "second = first[first['continent'] == 'Americas']\n",
    "te dice que de todas las opciones qeu tienes solo lea las del continente americano\n",
    "third = second.drop('Puerto Rico')\n",
    "aqui solo te pide que exportes los datos de puerto rico drop funciona, si por ejemplo\n",
    "no has cargado todo el archivo y solo quieres  trabajabar con unos para de datos.\n",
    "fourth = third.drop('continent', axis = 1)\n",
    "No se a que se refiera con axis\n",
    "¿es como mostrarnos la primer columna?\n",
    "fourth.to_csv('result.csv')\n",
    "\n",
    "Lo que hace to_csv() es covertir nuestro datos en formato csv "
   ]
  },
  {
   "cell_type": "markdown",
   "metadata": {},
   "source": [
    "Explique en términos simples qué hacen idxmin e idxmax \n",
    "en el programa corto a continuación. ¿Cuándo usarías estos métodos?\n",
    "\n",
    "data = pd.read_csv('data/gapminder_gdp_europe.csv', index_col='country')\n",
    "print(data.idxmin())\n",
    "print(data.idxmax())\n",
    "\n",
    "idxmin() es para darte el valor mas bajo del archivo data y idxmax() es mas alto\n",
    "Puede utilizar estas funciones siempre que desee obtener el\n",
    "índice de fila del valor mínimo / máximo y no el valor mínimo / máximo real.\n"
   ]
  },
  {
   "cell_type": "markdown",
   "metadata": {},
   "source": [
    "Utilice DataFrame.iloc [..., ...] para seleccionar valores por ubicación entera.\n",
    "Seleccione varias columnas o filas usando DataFrame.loc y un Named Slice\n",
    "\n",
    "me podrias explicar mejor como funciona iloc y loc"
   ]
  },
  {
   "cell_type": "markdown",
   "metadata": {},
   "source": [
    "***Plotting***\n"
   ]
  },
  {
   "cell_type": "code",
   "execution_count": 1,
   "metadata": {},
   "outputs": [
    {
     "ename": "FileNotFoundError",
     "evalue": "[Errno 2] File data/gapminder_gdp_europe.csv does not exist: 'data/gapminder_gdp_europe.csv'",
     "output_type": "error",
     "traceback": [
      "\u001b[1;31m---------------------------------------------------------------------------\u001b[0m",
      "\u001b[1;31mFileNotFoundError\u001b[0m                         Traceback (most recent call last)",
      "\u001b[1;32m<ipython-input-1-dca212b146aa>\u001b[0m in \u001b[0;36m<module>\u001b[1;34m\u001b[0m\n\u001b[0;32m      1\u001b[0m \u001b[1;32mimport\u001b[0m \u001b[0mpandas\u001b[0m \u001b[1;32mas\u001b[0m \u001b[0mpd\u001b[0m\u001b[1;33m\u001b[0m\u001b[1;33m\u001b[0m\u001b[0m\n\u001b[0;32m      2\u001b[0m \u001b[1;33m\u001b[0m\u001b[0m\n\u001b[1;32m----> 3\u001b[1;33m \u001b[0mdata\u001b[0m \u001b[1;33m=\u001b[0m \u001b[0mpd\u001b[0m\u001b[1;33m.\u001b[0m\u001b[0mread_csv\u001b[0m\u001b[1;33m(\u001b[0m\u001b[1;34m'data/gapminder_gdp_europe.csv'\u001b[0m\u001b[1;33m,\u001b[0m \u001b[0mindex_col\u001b[0m\u001b[1;33m=\u001b[0m\u001b[1;34m'country'\u001b[0m\u001b[1;33m)\u001b[0m\u001b[1;33m\u001b[0m\u001b[1;33m\u001b[0m\u001b[0m\n\u001b[0m\u001b[0;32m      4\u001b[0m \u001b[1;33m\u001b[0m\u001b[0m\n\u001b[0;32m      5\u001b[0m \u001b[0mdata_europe\u001b[0m \u001b[1;33m=\u001b[0m \u001b[0mpd\u001b[0m\u001b[1;33m.\u001b[0m\u001b[0mread_csv\u001b[0m\u001b[1;33m(\u001b[0m\u001b[1;34m'data/gapminder_gdp_europe.csv'\u001b[0m\u001b[1;33m,\u001b[0m \u001b[0mindex_col\u001b[0m\u001b[1;33m=\u001b[0m\u001b[1;34m'country'\u001b[0m\u001b[1;33m)\u001b[0m\u001b[1;33m\u001b[0m\u001b[1;33m\u001b[0m\u001b[0m\n",
      "\u001b[1;32m~\\anaconda3\\lib\\site-packages\\pandas\\io\\parsers.py\u001b[0m in \u001b[0;36mparser_f\u001b[1;34m(filepath_or_buffer, sep, delimiter, header, names, index_col, usecols, squeeze, prefix, mangle_dupe_cols, dtype, engine, converters, true_values, false_values, skipinitialspace, skiprows, skipfooter, nrows, na_values, keep_default_na, na_filter, verbose, skip_blank_lines, parse_dates, infer_datetime_format, keep_date_col, date_parser, dayfirst, cache_dates, iterator, chunksize, compression, thousands, decimal, lineterminator, quotechar, quoting, doublequote, escapechar, comment, encoding, dialect, error_bad_lines, warn_bad_lines, delim_whitespace, low_memory, memory_map, float_precision)\u001b[0m\n\u001b[0;32m    674\u001b[0m         )\n\u001b[0;32m    675\u001b[0m \u001b[1;33m\u001b[0m\u001b[0m\n\u001b[1;32m--> 676\u001b[1;33m         \u001b[1;32mreturn\u001b[0m \u001b[0m_read\u001b[0m\u001b[1;33m(\u001b[0m\u001b[0mfilepath_or_buffer\u001b[0m\u001b[1;33m,\u001b[0m \u001b[0mkwds\u001b[0m\u001b[1;33m)\u001b[0m\u001b[1;33m\u001b[0m\u001b[1;33m\u001b[0m\u001b[0m\n\u001b[0m\u001b[0;32m    677\u001b[0m \u001b[1;33m\u001b[0m\u001b[0m\n\u001b[0;32m    678\u001b[0m     \u001b[0mparser_f\u001b[0m\u001b[1;33m.\u001b[0m\u001b[0m__name__\u001b[0m \u001b[1;33m=\u001b[0m \u001b[0mname\u001b[0m\u001b[1;33m\u001b[0m\u001b[1;33m\u001b[0m\u001b[0m\n",
      "\u001b[1;32m~\\anaconda3\\lib\\site-packages\\pandas\\io\\parsers.py\u001b[0m in \u001b[0;36m_read\u001b[1;34m(filepath_or_buffer, kwds)\u001b[0m\n\u001b[0;32m    446\u001b[0m \u001b[1;33m\u001b[0m\u001b[0m\n\u001b[0;32m    447\u001b[0m     \u001b[1;31m# Create the parser.\u001b[0m\u001b[1;33m\u001b[0m\u001b[1;33m\u001b[0m\u001b[1;33m\u001b[0m\u001b[0m\n\u001b[1;32m--> 448\u001b[1;33m     \u001b[0mparser\u001b[0m \u001b[1;33m=\u001b[0m \u001b[0mTextFileReader\u001b[0m\u001b[1;33m(\u001b[0m\u001b[0mfp_or_buf\u001b[0m\u001b[1;33m,\u001b[0m \u001b[1;33m**\u001b[0m\u001b[0mkwds\u001b[0m\u001b[1;33m)\u001b[0m\u001b[1;33m\u001b[0m\u001b[1;33m\u001b[0m\u001b[0m\n\u001b[0m\u001b[0;32m    449\u001b[0m \u001b[1;33m\u001b[0m\u001b[0m\n\u001b[0;32m    450\u001b[0m     \u001b[1;32mif\u001b[0m \u001b[0mchunksize\u001b[0m \u001b[1;32mor\u001b[0m \u001b[0miterator\u001b[0m\u001b[1;33m:\u001b[0m\u001b[1;33m\u001b[0m\u001b[1;33m\u001b[0m\u001b[0m\n",
      "\u001b[1;32m~\\anaconda3\\lib\\site-packages\\pandas\\io\\parsers.py\u001b[0m in \u001b[0;36m__init__\u001b[1;34m(self, f, engine, **kwds)\u001b[0m\n\u001b[0;32m    878\u001b[0m             \u001b[0mself\u001b[0m\u001b[1;33m.\u001b[0m\u001b[0moptions\u001b[0m\u001b[1;33m[\u001b[0m\u001b[1;34m\"has_index_names\"\u001b[0m\u001b[1;33m]\u001b[0m \u001b[1;33m=\u001b[0m \u001b[0mkwds\u001b[0m\u001b[1;33m[\u001b[0m\u001b[1;34m\"has_index_names\"\u001b[0m\u001b[1;33m]\u001b[0m\u001b[1;33m\u001b[0m\u001b[1;33m\u001b[0m\u001b[0m\n\u001b[0;32m    879\u001b[0m \u001b[1;33m\u001b[0m\u001b[0m\n\u001b[1;32m--> 880\u001b[1;33m         \u001b[0mself\u001b[0m\u001b[1;33m.\u001b[0m\u001b[0m_make_engine\u001b[0m\u001b[1;33m(\u001b[0m\u001b[0mself\u001b[0m\u001b[1;33m.\u001b[0m\u001b[0mengine\u001b[0m\u001b[1;33m)\u001b[0m\u001b[1;33m\u001b[0m\u001b[1;33m\u001b[0m\u001b[0m\n\u001b[0m\u001b[0;32m    881\u001b[0m \u001b[1;33m\u001b[0m\u001b[0m\n\u001b[0;32m    882\u001b[0m     \u001b[1;32mdef\u001b[0m \u001b[0mclose\u001b[0m\u001b[1;33m(\u001b[0m\u001b[0mself\u001b[0m\u001b[1;33m)\u001b[0m\u001b[1;33m:\u001b[0m\u001b[1;33m\u001b[0m\u001b[1;33m\u001b[0m\u001b[0m\n",
      "\u001b[1;32m~\\anaconda3\\lib\\site-packages\\pandas\\io\\parsers.py\u001b[0m in \u001b[0;36m_make_engine\u001b[1;34m(self, engine)\u001b[0m\n\u001b[0;32m   1112\u001b[0m     \u001b[1;32mdef\u001b[0m \u001b[0m_make_engine\u001b[0m\u001b[1;33m(\u001b[0m\u001b[0mself\u001b[0m\u001b[1;33m,\u001b[0m \u001b[0mengine\u001b[0m\u001b[1;33m=\u001b[0m\u001b[1;34m\"c\"\u001b[0m\u001b[1;33m)\u001b[0m\u001b[1;33m:\u001b[0m\u001b[1;33m\u001b[0m\u001b[1;33m\u001b[0m\u001b[0m\n\u001b[0;32m   1113\u001b[0m         \u001b[1;32mif\u001b[0m \u001b[0mengine\u001b[0m \u001b[1;33m==\u001b[0m \u001b[1;34m\"c\"\u001b[0m\u001b[1;33m:\u001b[0m\u001b[1;33m\u001b[0m\u001b[1;33m\u001b[0m\u001b[0m\n\u001b[1;32m-> 1114\u001b[1;33m             \u001b[0mself\u001b[0m\u001b[1;33m.\u001b[0m\u001b[0m_engine\u001b[0m \u001b[1;33m=\u001b[0m \u001b[0mCParserWrapper\u001b[0m\u001b[1;33m(\u001b[0m\u001b[0mself\u001b[0m\u001b[1;33m.\u001b[0m\u001b[0mf\u001b[0m\u001b[1;33m,\u001b[0m \u001b[1;33m**\u001b[0m\u001b[0mself\u001b[0m\u001b[1;33m.\u001b[0m\u001b[0moptions\u001b[0m\u001b[1;33m)\u001b[0m\u001b[1;33m\u001b[0m\u001b[1;33m\u001b[0m\u001b[0m\n\u001b[0m\u001b[0;32m   1115\u001b[0m         \u001b[1;32melse\u001b[0m\u001b[1;33m:\u001b[0m\u001b[1;33m\u001b[0m\u001b[1;33m\u001b[0m\u001b[0m\n\u001b[0;32m   1116\u001b[0m             \u001b[1;32mif\u001b[0m \u001b[0mengine\u001b[0m \u001b[1;33m==\u001b[0m \u001b[1;34m\"python\"\u001b[0m\u001b[1;33m:\u001b[0m\u001b[1;33m\u001b[0m\u001b[1;33m\u001b[0m\u001b[0m\n",
      "\u001b[1;32m~\\anaconda3\\lib\\site-packages\\pandas\\io\\parsers.py\u001b[0m in \u001b[0;36m__init__\u001b[1;34m(self, src, **kwds)\u001b[0m\n\u001b[0;32m   1889\u001b[0m         \u001b[0mkwds\u001b[0m\u001b[1;33m[\u001b[0m\u001b[1;34m\"usecols\"\u001b[0m\u001b[1;33m]\u001b[0m \u001b[1;33m=\u001b[0m \u001b[0mself\u001b[0m\u001b[1;33m.\u001b[0m\u001b[0musecols\u001b[0m\u001b[1;33m\u001b[0m\u001b[1;33m\u001b[0m\u001b[0m\n\u001b[0;32m   1890\u001b[0m \u001b[1;33m\u001b[0m\u001b[0m\n\u001b[1;32m-> 1891\u001b[1;33m         \u001b[0mself\u001b[0m\u001b[1;33m.\u001b[0m\u001b[0m_reader\u001b[0m \u001b[1;33m=\u001b[0m \u001b[0mparsers\u001b[0m\u001b[1;33m.\u001b[0m\u001b[0mTextReader\u001b[0m\u001b[1;33m(\u001b[0m\u001b[0msrc\u001b[0m\u001b[1;33m,\u001b[0m \u001b[1;33m**\u001b[0m\u001b[0mkwds\u001b[0m\u001b[1;33m)\u001b[0m\u001b[1;33m\u001b[0m\u001b[1;33m\u001b[0m\u001b[0m\n\u001b[0m\u001b[0;32m   1892\u001b[0m         \u001b[0mself\u001b[0m\u001b[1;33m.\u001b[0m\u001b[0munnamed_cols\u001b[0m \u001b[1;33m=\u001b[0m \u001b[0mself\u001b[0m\u001b[1;33m.\u001b[0m\u001b[0m_reader\u001b[0m\u001b[1;33m.\u001b[0m\u001b[0munnamed_cols\u001b[0m\u001b[1;33m\u001b[0m\u001b[1;33m\u001b[0m\u001b[0m\n\u001b[0;32m   1893\u001b[0m \u001b[1;33m\u001b[0m\u001b[0m\n",
      "\u001b[1;32mpandas\\_libs\\parsers.pyx\u001b[0m in \u001b[0;36mpandas._libs.parsers.TextReader.__cinit__\u001b[1;34m()\u001b[0m\n",
      "\u001b[1;32mpandas\\_libs\\parsers.pyx\u001b[0m in \u001b[0;36mpandas._libs.parsers.TextReader._setup_parser_source\u001b[1;34m()\u001b[0m\n",
      "\u001b[1;31mFileNotFoundError\u001b[0m: [Errno 2] File data/gapminder_gdp_europe.csv does not exist: 'data/gapminder_gdp_europe.csv'"
     ]
    }
   ],
   "source": [
    "import pandas as pd\n",
    "\n",
    "data = pd.read_csv('data/gapminder_gdp_europe.csv', index_col='country')\n",
    "#Complete los espacios en blanco a continuación para representar el GDP per cápita mínimo a lo largo del tiempo para todos los países de Europa. Modifíquelo nuevamente para trazar el GDP per cápita máximo a lo largo del tiempo para Europa\n",
    "\n",
    "data_europe = pd.read_csv('data/gapminder_gdp_europe.csv', index_col='country')\n",
    "data_europe.min().plot(label='min')\n",
    "data_europe.max().plot(label=\"max\")\n",
    "plt.legend(loc='best')\n",
    "plt.xticks(rotation=90)\n",
    "\n"
   ]
  },
  {
   "cell_type": "markdown",
   "metadata": {},
   "source": [
    "Correlaciones\n",
    "Modifique el ejemplo de las notas para crear un diagrama de dispersión que muestre \n",
    "la relación entre el PIB per cápita mínimo y máximo entre los países de \n",
    "Asia para cada año en el conjunto de datos.¿Qué relación ves (si la hay)?\n",
    "\n",
    "Parece ser que la correlaciones entre max y min de asia no son suben y bajan juntas."
   ]
  },
  {
   "cell_type": "code",
   "execution_count": null,
   "metadata": {},
   "outputs": [],
   "source": [
    "data_asia = pd.read_csv('data/gapminder_gdp_asia.csv', index_col='country')\n",
    "data_asia.max().plot()\n",
    "print(data_asia.idxmax())\n",
    "print(data_asia.idxmin())"
   ]
  },
  {
   "cell_type": "markdown",
   "metadata": {},
   "source": [
    "#Utilizando la ayuda en línea y otros recursos, explique qué hace cada argumento a trazar.\n",
    "data_all = pd.read_csv('data/gapminder_all.csv', index_col='country')\n",
    "data_all.plot(kind='scatter', x='gdpPercap_2007', y='lifeExp_2007',\n",
    "              s=data_all['pop_2007']/1e6)\n",
    "\n",
    "Kind: el tipo de grafica que va a realizar\n",
    "X: en este caso indica los que se pondra en el eje de la X\n",
    "y: nos indica lo que se pondra en el eje de las Y\n",
    "Si en algun momoento necesitamos guardar nuestra grafica paraun publicacion academica lo podemos\n",
    "hacer de la siguiente manera:\n",
    "plt.savefig('my_figure.png')\n"
   ]
  },
  {
   "cell_type": "markdown",
   "metadata": {},
   "source": [
    "Many styles of plot are available: see the Python Graph Gallery for more options.\n",
    "\n",
    "Recuerda preguntarle a Nelly sobre si debes transformar los datos ante, para poder hacer los plots\n",
    "\n",
    "data.T.plot()\n",
    "plt.ylabel('GDP per capita')\n",
    "¿Que significa la letra T?\n"
   ]
  },
  {
   "cell_type": "markdown",
   "metadata": {},
   "source": [
    "***List***\n",
    "\n",
    "Podemos hacer una lista para almacenar muchos valores.\n",
    "append es un método de listas.\n",
    "Como una función, pero ligada a un objeto en particular.\n",
    "ExtenD es similar a Append, pero le permite combinar dos listas.\n",
    "Las listas pueden contener valores de diferentes tipos.\n"
   ]
  },
  {
   "cell_type": "code",
   "execution_count": 4,
   "metadata": {},
   "outputs": [
    {
     "name": "stdout",
     "output_type": "stream",
     "text": [
      "first time: [1, 3, 5]\n",
      "second time: [5]\n"
     ]
    }
   ],
   "source": [
    "Complete los espacios en blanco para que el programa siguiente produzca el resultado que se muestra.\n",
    "values = []\n",
    "values.append(1)\n",
    "values.append(3)\n",
    "values.append(5)\n",
    "print('first time:', values)\n",
    "values = values[2:]\n",
    "print('second time:', values)"
   ]
  },
  {
   "cell_type": "code",
   "execution_count": null,
   "metadata": {},
   "outputs": [],
   "source": [
    "How Large is a Slice?\n",
    "If ‘low’ and ‘high’ are both non-negative integers, how long is the list values[low:high]?\n",
    "\n",
    "#No entiendo la pregunta "
   ]
  },
  {
   "cell_type": "markdown",
   "metadata": {},
   "source": [
    "print('string to list:', list('tin'))\n",
    "print('list to string:', ''.join(['g', 'o', 'l', 'd']))\n",
    "\n",
    "What does list('some string') do?\n",
    "lo que hace list es enlistar todo lo que haya en esa parte\n",
    "What does '-'.join(['x', 'y', 'z']) generate?\n",
    "y join lo que hace es juntarlo. generara: x-y-z con separadores"
   ]
  },
  {
   "cell_type": "code",
   "execution_count": null,
   "metadata": {},
   "outputs": [],
   "source": [
    "#What does the following program print?\n",
    "\n",
    "element = 'helium'\n",
    "print(element[-1])"
   ]
  },
  {
   "cell_type": "code",
   "execution_count": null,
   "metadata": {},
   "outputs": [],
   "source": [
    "¿Cómo interpreta Python un índice negativo? imprime m\n",
    "Si una lista o cadena tiene N elementos, ¿cuál es el índice más negativo que se puede usar con seguridad con ella, y qué ubicación representa ese índice?\n",
    "r= esto representa el ultimo lugar de estos datos con -N\n",
    "Si valores es una lista, ¿qué hace del valores [-1]? con del values[-1]\n",
    "¿Cómo se pueden mostrar todos los elementos excepto el último sin cambiar los valores? (Sugerencia: deberá combinar el corte y la indexación negativa).\n",
    "values [:-1]"
   ]
  },
  {
   "cell_type": "code",
   "execution_count": 12,
   "metadata": {},
   "outputs": [
    {
     "name": "stdout",
     "output_type": "stream",
     "text": [
      "lithium\n",
      "\n"
     ]
    }
   ],
   "source": [
    "element = 'lithium'\n",
    "print(element[0:9])\n",
    "print(element[-1:0])\n",
    "\n",
    "\n",
    "#Porqué solo imprime Lithium?"
   ]
  },
  {
   "cell_type": "code",
   "execution_count": 13,
   "metadata": {},
   "outputs": [
    {
     "name": "stdout",
     "output_type": "stream",
     "text": [
      "letters is ['g', 'o', 'l', 'd'] and result is ['d', 'g', 'l', 'o']\n",
      "letters is ['d', 'g', 'l', 'o'] and result is None\n"
     ]
    }
   ],
   "source": [
    "# ProgramA: Primero nos enlista letters pero las deja de forma original y despues ordena las palabras\n",
    "letters = list('gold')\n",
    "result = sorted(letters)\n",
    "print('letters is', letters, 'and result is', result)\n",
    "# Program B :Ordena y enlistaletters y no devuele una lista como el programa A \n",
    "letters = list('gold')\n",
    "result = letters.sort()\n",
    "print('letters is', letters, 'and result is', result)"
   ]
  },
  {
   "cell_type": "code",
   "execution_count": null,
   "metadata": {},
   "outputs": [],
   "source": [
    "***For Loops**"
   ]
  },
  {
   "cell_type": "code",
   "execution_count": 15,
   "metadata": {},
   "outputs": [
    {
     "name": "stdout",
     "output_type": "stream",
     "text": [
      "nit\n"
     ]
    }
   ],
   "source": [
    "#Reversing a String\n",
    "original = \"tin\"\n",
    "result = \"\"\n",
    "for char in original:\n",
    "    result = original[::-1]\n",
    "print(result)\n",
    "#This is mine"
   ]
  },
  {
   "cell_type": "code",
   "execution_count": 16,
   "metadata": {},
   "outputs": [
    {
     "name": "stdout",
     "output_type": "stream",
     "text": [
      "nit\n"
     ]
    }
   ],
   "source": [
    "original = \"tin\"\n",
    "result = \"\"\n",
    "for char in original:\n",
    "    result = char + result\n",
    "print(result)"
   ]
  },
  {
   "cell_type": "code",
   "execution_count": 17,
   "metadata": {},
   "outputs": [
    {
     "name": "stdout",
     "output_type": "stream",
     "text": [
      "12\n"
     ]
    }
   ],
   "source": [
    "# Total length of the strings in the list: [\"red\", \"green\", \"blue\"] => 12\n",
    "total = 0\n",
    "for word in [\"red\", \"green\", \"blue\"]:\n",
    "    total = total + len(word)\n",
    "print(total)"
   ]
  },
  {
   "cell_type": "code",
   "execution_count": 19,
   "metadata": {},
   "outputs": [
    {
     "name": "stdout",
     "output_type": "stream",
     "text": [
      "[3, 5, 4]\n"
     ]
    }
   ],
   "source": [
    "# List of word lengths: [\"red\", \"green\", \"blue\"] => [3, 5, 4]\n",
    "lengths = []\n",
    "for word in [\"red\", \"green\", \"blue\"]:\n",
    "    lengths.append(len(word))\n",
    "print(lengths)"
   ]
  },
  {
   "cell_type": "code",
   "execution_count": null,
   "metadata": {},
   "outputs": [],
   "source": []
  },
  {
   "cell_type": "code",
   "execution_count": 28,
   "metadata": {},
   "outputs": [
    {
     "name": "stdout",
     "output_type": "stream",
     "text": [
      "RGB\n"
     ]
    }
   ],
   "source": [
    "# Create acronym: [\"red\", \"green\", \"blue\"] => \"RGB\"\n",
    "# write the whole thing\n",
    "\n",
    "result = \"\"\n",
    "for word in [\"red\",\"green\",\"blue\"]:\n",
    "    result = result + word [0].upper()\n",
    "print (result)\n",
    "            \n",
    "    \n"
   ]
  },
  {
   "cell_type": "code",
   "execution_count": 27,
   "metadata": {},
   "outputs": [
    {
     "name": "stdout",
     "output_type": "stream",
     "text": [
      "RGB\n"
     ]
    }
   ],
   "source": [
    "acronym = \"\"\n",
    "for word in [\"red\", \"green\", \"blue\"]:\n",
    "    acronym = acronym + word[0].upper()\n",
    "print(acronym)"
   ]
  },
  {
   "cell_type": "code",
   "execution_count": 32,
   "metadata": {},
   "outputs": [
    {
     "name": "stdout",
     "output_type": "stream",
     "text": [
      "[1, 3, 5, 10]\n"
     ]
    }
   ],
   "source": [
    "#Cumulative Sum\n",
    "sum = 0\n",
    "data = [1,2,2,5]\n",
    "cumulative = []\n",
    "for number in data:\n",
    "    sum += number\n",
    "    cumulative.append(sum)\n",
    "print(cumulative)\n",
    "\n",
    "\n"
   ]
  },
  {
   "cell_type": "code",
   "execution_count": 37,
   "metadata": {},
   "outputs": [
    {
     "name": "stdout",
     "output_type": "stream",
     "text": [
      "abbabbabba\n"
     ]
    }
   ],
   "source": [
    "#Identifying Variable Name Errors\n",
    "message = \"\"\n",
    "for number in range(10):\n",
    "    # use a if the number is a multiple of 3, otherwise use b\n",
    "    if (number % 3) == 0:\n",
    "        message = message + \"a\"\n",
    "    else:\n",
    "        message = message + \"b\"\n",
    "print(message)"
   ]
  },
  {
   "cell_type": "code",
   "execution_count": 39,
   "metadata": {},
   "outputs": [
    {
     "name": "stdout",
     "output_type": "stream",
     "text": [
      "My favorite season is  Winter\n"
     ]
    }
   ],
   "source": [
    "seasons = ['Spring', 'Summer', 'Fall', 'Winter']\n",
    "print('My favorite season is ', seasons[3])"
   ]
  },
  {
   "cell_type": "code",
   "execution_count": 41,
   "metadata": {},
   "outputs": [
    {
     "name": "stdout",
     "output_type": "stream",
     "text": [
      "25.0\n"
     ]
    }
   ],
   "source": [
    "#What does this program print?  25\n",
    "\n",
    "pressure = 71.9\n",
    "if pressure > 50.0:\n",
    "    pressure = 25.0\n",
    "elif pressure <= 50.0:\n",
    "    pressure = 0.0\n",
    "print(pressure)"
   ]
  },
  {
   "cell_type": "code",
   "execution_count": null,
   "metadata": {},
   "outputs": [],
   "source": [
    "#**Trimming Values**\n",
    "#Complete los espacios en blanco para que este programa cree una nueva lista que contenga ceros donde los valores de la lista original eran negativos y unos donde los valores de la lista original eran positivos.\n",
    "original = [-1.5, 0.2, 0.4, 0.0, -1.3, 0.4]\n",
    "result = []\n",
    "for value in original:\n",
    "    if value<0.0:\n",
    "        result.append(0)\n",
    "    else:\n",
    "        result.append(1)\n",
    "print(result)"
   ]
  },
  {
   "cell_type": "code",
   "execution_count": null,
   "metadata": {},
   "outputs": [],
   "source": [
    "#Modifique este programa para que solo procese archivos con menos de 50 registros.\n",
    "import glob\n",
    "import pandas as pd\n",
    "for filename in glob.glob('data/*.csv'):\n",
    "    contents = pd.read_csv(filename)\n",
    "    if:len(contents)<50\n",
    "        print(filename, len(contents))"
   ]
  },
  {
   "cell_type": "code",
   "execution_count": null,
   "metadata": {},
   "outputs": [],
   "source": [
    "Modifique este programa para que encuentre los valores más grandes y más pequeños en la lista sin importar cuál sea el rango de valores originalmente.\n",
    "values = [-2,1,65,78,-54,-24,100]\n",
    "smallest, largest = None, None\n",
    "for v in values:\n",
    "    if smallest==None and largest==None:\n",
    "        smallest, largest = v, v\n",
    "    else:\n",
    "        smallest = min(smallest, v)\n",
    "        largest = max(largest, v)\n",
    "print(smallest, largest)\n",
    "\n",
    "\n",
    "#Para que funciona el \"==\"?????"
   ]
  },
  {
   "cell_type": "code",
   "execution_count": null,
   "metadata": {},
   "outputs": [],
   "source": [
    "#Minimum File Size\n",
    "#Modify this program so that it prints the number of records in the file that has the fewest records.\n",
    "\n",
    "\n",
    "import glob\n",
    "import pandas as pd\n",
    "fewest = float('Inf')\n",
    "for filename in glob.glob('data/*.csv'):\n",
    "    dataframe = pd.read_csv(filename)\n",
    "    fewest = min(fewest, dataframe.shape[0])\n",
    "print('smallest file has', fewest, 'records')"
   ]
  },
  {
   "cell_type": "code",
   "execution_count": null,
   "metadata": {},
   "outputs": [],
   "source": [
    "#Escriba un programa que lea en los conjuntos de datos regionales y trace el PIB per cápita promedio para cada región a lo largo del tiempo en un solo gráfico\n",
    "#Esta solución crea una leyenda útil utilizando el método de división de cadenas para extraer la región de la ruta \"data / gapminder_gdp_a_specific_region.csv\". El [módulo pathlib] también proporciona abstracciones útiles para la manipulación de archivos y rutas, como devolver el nombre de un archivo sin la extensión del archivo.\n",
    "import glob\n",
    "import pandas as pd\n",
    "import matplotlib.pyplot as plt\n",
    "fig, ax = plt.subplots(1,1)\n",
    "for filename in glob.glob('data/gapminder_gdp*.csv'):\n",
    "    dataframe = pd.read_csv(filename)\n",
    "    # extract <region> from the filename, expected to be in the format 'data/gapminder_gdp_<region>.csv'.\n",
    "    # we will split the string using the split method and `_` as our separator,\n",
    "    # retrieve the last string in the list that split returns (`<region>.csv`), \n",
    "    # and then remove the `.csv` extension from that string.\n",
    "    region = filename.split('_')[-1][:-4] \n",
    "    dataframe.mean().plot(ax=ax, label=region)\n",
    "plt.legend()\n",
    "plt.show()"
   ]
  },
  {
   "cell_type": "markdown",
   "metadata": {},
   "source": [
    "***Writing Functions***"
   ]
  },
  {
   "cell_type": "code",
   "execution_count": 49,
   "metadata": {},
   "outputs": [],
   "source": [
    "#Identifying Syntax Errors\n",
    "def another_function():\n",
    "    print(\"Syntax errors are annoying.\")\n",
    "    print(\"But at least python tells us about them!\")\n",
    "    print(\"So they are usually not too hard to fix.\")"
   ]
  },
  {
   "cell_type": "code",
   "execution_count": 48,
   "metadata": {},
   "outputs": [],
   "source": [
    "#What does the following program print?\n",
    "def report(pressure):\n",
    "    print('pressure is', pressure)\n",
    "    print('calling', report, 22.5)\n",
    "#La primera línea de salida (1871/3/19) es de la función de impresión dentro de print_date (), mientras que la segunda línea es de la función de impresión debajo de la llamada a la función. Todo el código dentro de print_date () se ejecuta primero, y luego el programa \"deja\" la función y ejecuta el resto del código.\n",
    "#El problema con el ejemplo es que la función se define después de que se realiza la llamada a la función. Por lo tanto, Python no comprende la llamada a la función."
   ]
  },
  {
   "cell_type": "code",
   "execution_count": null,
   "metadata": {},
   "outputs": [],
   "source": [
    "#Complete los espacios en blanco para crear una función que tome un solo nombre de archivo como argumento, cargue los datos en el archivo nombrado por el argumento y devuelva el valor mínimo en esos datos.\n",
    "import pandas as pd\n",
    "\n",
    "def min_in_data(filename):\n",
    "    data = pd.read_csv(filename)\n",
    "    return data.min()"
   ]
  },
  {
   "cell_type": "code",
   "execution_count": null,
   "metadata": {},
   "outputs": [],
   "source": [
    "#Complete los espacios en blanco para crear una función que tome una lista de números como argumento y devuelva el primer valor negativo de la lista. ¿Qué hace su función si la lista está vacía?\n",
    "def first_negative(values):\n",
    "    for v in values:\n",
    "        if v < 0 :\n",
    "            return v\n",
    "#Si la lista esta vacia regresara el NONE.\n",
    "\n",
    "def print_date(year, month, day):\n",
    "    joined = str(year) + '/' + str(month) + '/' + str(day)\n",
    "    print(joined)\n",
    "\n",
    "#What does print_date(day=1, month=2, year=2003) print? \n",
    "#2003/2/1\n",
    "#When have you seen a function call like this before?\n",
    "#When and why is it useful to call functions this way?\n",
    "#El so de argumentos con nombre puede hacer que el código sea más legible, ya que uno puede ver en la llamada a la función qué nombre tienen los diferentes argumentos dentro de la función. También puede reducir las posibilidades de pasar argumentos en el orden incorrecto, ya que al usar argumentos con nombre, el orden no importa.\n",
    "      "
   ]
  },
  {
   "cell_type": "code",
   "execution_count": 50,
   "metadata": {},
   "outputs": [
    {
     "name": "stdout",
     "output_type": "stream",
     "text": [
      "et cetera\n",
      "*****-***\n",
      "----*-*--\n",
      "---*---*-\n",
      "--*-*-*-*\n",
      "**-------\n",
      "***-----*\n",
      "--**---**\n",
      "*****-***\n",
      "----*-*--\n",
      "---*---*-\n"
     ]
    }
   ],
   "source": [
    "def string_machine(input_string, iterations):\n",
    "    \"\"\"\n",
    "    Takes input_string and generates a new string with -'s and *'s\n",
    "    corresponding to characters that have identical adjacent characters\n",
    "    or not, respectively.  Iterates through this procedure with the resultant\n",
    "    strings for the supplied number of iterations.\n",
    "    \"\"\"\n",
    "    print(input_string)\n",
    "    input_string_length = len(input_string)\n",
    "    old = input_string\n",
    "    for i in range(iterations):\n",
    "        new = ''\n",
    "        # iterate through characters in previous string\n",
    "        for j in range(input_string_length):\n",
    "            left = j-1\n",
    "            right = (j+1) % input_string_length  # ensure right index wraps around\n",
    "            if old[left] == old[right]:\n",
    "                new += '-'\n",
    "            else:\n",
    "                new += '*'\n",
    "        print(new)\n",
    "        # store new string as old\n",
    "        old = new     \n",
    "\n",
    "string_machine('et cetera', 10)"
   ]
  },
  {
   "cell_type": "code",
   "execution_count": null,
   "metadata": {},
   "outputs": [],
   "source": []
  }
 ],
 "metadata": {
  "kernelspec": {
   "display_name": "Python 3",
   "language": "python",
   "name": "python3"
  },
  "language_info": {
   "codemirror_mode": {
    "name": "ipython",
    "version": 3
   },
   "file_extension": ".py",
   "mimetype": "text/x-python",
   "name": "python",
   "nbconvert_exporter": "python",
   "pygments_lexer": "ipython3",
   "version": "3.8.3"
  }
 },
 "nbformat": 4,
 "nbformat_minor": 4
}
