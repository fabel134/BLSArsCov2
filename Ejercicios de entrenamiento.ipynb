{
 "cells": [
  {
   "cell_type": "code",
   "execution_count": 7,
   "metadata": {},
   "outputs": [
    {
     "data": {
      "text/plain": [
       "3"
      ]
     },
     "execution_count": 7,
     "metadata": {},
     "output_type": "execute_result"
    }
   ],
   "source": [
    "7*3\n",
    "2+1"
   ]
  },
  {
   "cell_type": "markdown",
   "metadata": {},
   "source": [
    "#Example\n",
    "\n",
    "1. Get funding.\n",
    "2. Do work.\n",
    "*Desing Experiment\n",
    "*Collect Data\n",
    "*Analyze\n",
    "3. Write up\n",
    "4. Publish."
   ]
  },
  {
   "cell_type": "code",
   "execution_count": 8,
   "metadata": {},
   "outputs": [
    {
     "name": "stdout",
     "output_type": "stream",
     "text": [
      "54\n"
     ]
    }
   ],
   "source": [
    "x = 6 * 7 + 12\n",
    "print(x)\n",
    "\n"
   ]
  },
  {
   "cell_type": "markdown",
   "metadata": {},
   "source": [
    "Swapping Values\n",
    "Llene la tabla que muestra los valores de las variables en este programa después de que se ejecute cada declaración. \n",
    "# Command  # Value of x   # Value of y   # Value of swap #\n",
    "x = 1.0    #  1.0         # no           # no            #\n",
    "y = 3.0    #  3.0         # 3.0          # no            #\n",
    "swap = x   #  1.0         # 1.0          # 1.0           #\n",
    "x = y      #  3.0         # 3.0          # 1.0           #\n",
    "y = swap   #  3.0         # 3.0          # 1.0           #\n",
    "\n",
    "\n"
   ]
  },
  {
   "cell_type": "markdown",
   "metadata": {},
   "source": [
    "Predicción de valores\n",
    "¿Cuál es el valor final de la posición en el programa a continuación? (Intente predecir el valor sin ejecutar el programa, luego verifique su predicción).\n",
    "\n",
    "initial = 'left'\n",
    "position = initial\n",
    "initial = 'right'\n",
    "\n",
    "R= right\n",
    "La variable \"positión\" conserva su valor de cadena de 'left'.\n",
    "\n"
   ]
  },
  {
   "cell_type": "code",
   "execution_count": 11,
   "metadata": {},
   "outputs": [
    {
     "name": "stdout",
     "output_type": "stream",
     "text": [
      "right\n"
     ]
    }
   ],
   "source": [
    "initial = 'left'\n",
    "position = initial\n",
    "initial = 'right'\n"
   ]
  },
  {
   "cell_type": "markdown",
   "metadata": {},
   "source": [
    "Desafío\n",
    "Si asigna a = 123, ¿qué sucede si intenta obtener el segundo dígito de a a través de [1]?\n",
    "\n",
    "Se imprimira el numero dos, porqué recordemos que python cuenta los valores iniciando con 0\n",
    "\n",
    " incorrecto: Si desea el enésimo dígito de un número, puede convertirlo en una cadena utilizando la función incorporada \"str\" y luego realizar una operación de índice en esa cadena\n",
    " si se hace como lo pense nos va a dar error.\n",
    " \n",
    " INCORRECTO!!!!\n",
    " a = 123\n",
    "print(a[1])\n"
   ]
  },
  {
   "cell_type": "code",
   "execution_count": 12,
   "metadata": {},
   "outputs": [
    {
     "name": "stdout",
     "output_type": "stream",
     "text": [
      "2\n"
     ]
    }
   ],
   "source": [
    "#Forma correcta de imprimir una cadena de valores.\n",
    "a = str(123)\n",
    "print(a[1])"
   ]
  },
  {
   "cell_type": "markdown",
   "metadata": {},
   "source": [
    "Choosing a Name\n",
    "\n",
    "Which is a better variable name, m, min, or minutes? Why? Hint: think about which code you would rather inherit from someone who is leaving the lab:\n",
    "\n",
    "    1. ts = m * 60 + s\n",
    "    2. tot_sec = min * 60 + sec\n",
    "    3. total_seconds = minutes * 60 + seconds\n",
    "A mi punto de vista el mejor es el tercero debido que tenemos mejores etiquetas para las varibles los cual en un futuro le puden servir a alguien.\n"
   ]
  },
  {
   "cell_type": "code",
   "execution_count": 13,
   "metadata": {},
   "outputs": [
    {
     "name": "stdout",
     "output_type": "stream",
     "text": [
      "atom_name[1:3] is: ar\n"
     ]
    }
   ],
   "source": [
    "#What does the following program print?\n",
    "\n",
    "\n",
    "atom_name = 'carbon'\n",
    "print('atom_name[1:3] is:', atom_name[1:3])\n"
   ]
  },
  {
   "cell_type": "markdown",
   "metadata": {},
   "source": [
    "la salida de este script es \n",
    "arb is:arb\n",
    "\n",
    "Nota: Abel No olvides que esta entre parentesis y esto solo nos dice que va a imprimir todo lo que este en parentesis lo cual nos hace tener la salida anterior."
   ]
  },
  {
   "cell_type": "markdown",
   "metadata": {},
   "source": [
    "****Data Types and Type Conversion****"
   ]
  },
  {
   "cell_type": "markdown",
   "metadata": {},
   "source": [
    "Las cadenas tienen una longitud, pero los números no."
   ]
  },
  {
   "cell_type": "markdown",
   "metadata": {},
   "source": [
    "What type of value is 3.4? How can you find out?\n",
    "\n",
    "Es una float porqué representa numeros reales"
   ]
  },
  {
   "cell_type": "code",
   "execution_count": 1,
   "metadata": {},
   "outputs": [
    {
     "name": "stdout",
     "output_type": "stream",
     "text": [
      "<class 'float'>\n"
     ]
    }
   ],
   "source": [
    "print(type(3.4))\n",
    "\n",
    "#esta es la forma de saber que tipo de dato tenemos."
   ]
  },
  {
   "cell_type": "markdown",
   "metadata": {},
   "source": [
    "What type of value is 3.25 + 4?\n",
    "\n",
    "El tipo de valor es \"float\" porque son numeros reales.\n"
   ]
  },
  {
   "cell_type": "markdown",
   "metadata": {},
   "source": [
    "¿Qué tipo de valor (integer, floating point number, or character string) usaría para representar cada uno de los siguientes? Trate de encontrar más de una buena respuesta para cada problema. Por ejemplo, en el n. ° 1, ¿cuándo tendría más sentido contar días con una variable de punto flotante que usar un número entero?\n",
    "\n",
    "     Número de días desde el inicio del año: (int)\n",
    "     Tiempo transcurrido desde el inicio del año hasta ahora en días. (float)\n",
    "     Número de serie de un equipo de laboratorio.(STR) \n",
    "     La edad de una muestra de laboratorio (int) (str)\n",
    "     Población actual de una ciudad. (int) la respuesta correcta es float por se grandes cantidades\n",
    "     Población media de una ciudad a lo largo del tiempo.(float)\n",
    "     "
   ]
  },
  {
   "cell_type": "markdown",
   "metadata": {},
   "source": [
    "Si \"num_subjects\" es el número de sujetos que participan en un estudio y \"num_per_survey\" es el número que puede participar en una sola encuesta, escriba una expresión que calcule la cantidad de encuestas necesarias para llegar a todos una vez.\n",
    "\n"
   ]
  },
  {
   "cell_type": "code",
   "execution_count": null,
   "metadata": {},
   "outputs": [],
   "source": []
  },
  {
   "cell_type": "code",
   "execution_count": 21,
   "metadata": {},
   "outputs": [
    {
     "name": "stdout",
     "output_type": "stream",
     "text": [
      "num_total: 24.0\n"
     ]
    }
   ],
   "source": [
    "num_per_survey = float (42)\n",
    "num_subjects = float (1000)\n",
    "num_total= (num_subjects//num_per_survey)+1\n",
    "\n",
    "print(\"num_total:\", num_total)\n",
    "\n",
    "# se le agrega el \"+1\" porque cuando hace el calculo nos regresa el calculo en numero entero\n",
    "#y si multiplicamos 14(42) son 588 personas y necesitamos 600 entonces ponerle el \"*1\" nos ayuda a redondear\n",
    "#el numero y darnos un numero mas certero, si multplicamos 15(42) es igual a 630, asi nadie quedaria fuera de\n",
    "#las encuestas."
   ]
  },
  {
   "cell_type": "code",
   "execution_count": null,
   "metadata": {},
   "outputs": [],
   "source": []
  },
  {
   "cell_type": "code",
   "execution_count": null,
   "metadata": {},
   "outputs": [],
   "source": []
  },
  {
   "cell_type": "code",
   "execution_count": null,
   "metadata": {},
   "outputs": [],
   "source": []
  }
 ],
 "metadata": {
  "kernelspec": {
   "display_name": "Python 3",
   "language": "python",
   "name": "python3"
  },
  "language_info": {
   "codemirror_mode": {
    "name": "ipython",
    "version": 3
   },
   "file_extension": ".py",
   "mimetype": "text/x-python",
   "name": "python",
   "nbconvert_exporter": "python",
   "pygments_lexer": "ipython3",
   "version": "3.7.3"
  }
 },
 "nbformat": 4,
 "nbformat_minor": 2
}
