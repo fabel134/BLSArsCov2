{
 "cells": [
  {
   "cell_type": "markdown",
   "metadata": {},
   "source": [
    "# Queremos buscar los genomas (los archivos '.fa') que faltan subir a gisaid"
   ]
  },
  {
   "cell_type": "code",
   "execution_count": 37,
   "metadata": {},
   "outputs": [],
   "source": [
    "import pandas as pd # primero debemos importar el modulo pandas\n",
    "# cargamos nuestro data frame de EPICOV\n",
    "metadata = pd.read_csv(\"c:/Users/Jose Abel/Documents/gisaid-servicio-social/METADATA_LANGEBIO_070421-Planeacion.tsv\", sep='\\t')\n",
    "#metadata.head"
   ]
  },
  {
   "cell_type": "markdown",
   "metadata": {},
   "source": [
    "## Hay que remplazar los 'espacios' de los nombres de las columnas por un '_'"
   ]
  },
  {
   "cell_type": "code",
   "execution_count": 58,
   "metadata": {},
   "outputs": [
    {
     "data": {
      "text/plain": [
       "pandas.core.indexes.base.Index"
      ]
     },
     "execution_count": 58,
     "metadata": {},
     "output_type": "execute_result"
    }
   ],
   "source": [
    "meta = metadata.columns = [c.replace(' ', '_') for c in metadata.columns]\n",
    "metadata.columns\n",
    "type (metadata.columns)\n"
   ]
  },
  {
   "cell_type": "markdown",
   "metadata": {},
   "source": [
    "## Vamos a seleccionar unicamente dos columnas: 'Folio Interno' 'ID biblioteca UGA'"
   ]
  },
  {
   "cell_type": "code",
   "execution_count": 63,
   "metadata": {},
   "outputs": [
    {
     "name": "stdout",
     "output_type": "stream",
     "text": [
      "     Folio_Interno  ID_biblioteca_UGA\n",
      "0     202101044487                401\n",
      "1     202101044517                402\n",
      "2     202101044597                403\n",
      "3     202101044731                404\n",
      "4     202101044785                405\n",
      "..             ...                ...\n",
      "379   202101094981                780\n",
      "380   202101095084                781\n",
      "381   202101095087                782\n",
      "382   202101095090                783\n",
      "383   202101095092                784\n",
      "\n",
      "[384 rows x 2 columns]\n"
     ]
    }
   ],
   "source": [
    "\n",
    "print(metadata.loc[:, [\"Folio_Interno\", \"ID_biblioteca_UGA\"]])"
   ]
  },
  {
   "cell_type": "markdown",
   "metadata": {},
   "source": [
    "## Cargamos los datos que vamos a buscar (los IDs de los genomas faltantes)"
   ]
  },
  {
   "cell_type": "code",
   "execution_count": 68,
   "metadata": {},
   "outputs": [],
   "source": [
    "data_miss = pd.read_csv(\"c:/Users/Jose Abel/Documents/gisaid-servicio-social/IDS-gisaid.txt\", sep='\\t')\n",
    "#data_miss.head"
   ]
  },
  {
   "cell_type": "code",
   "execution_count": null,
   "metadata": {},
   "outputs": [],
   "source": [
    "##Lo que hace esta celda es preguntarle al DataFrame (metadata) si 'Folio_interno' esta integrado en el segundo DataFrame( data_miss) y le reponde como verdadero o falso"
   ]
  },
  {
   "cell_type": "code",
   "execution_count": 71,
   "metadata": {},
   "outputs": [
    {
     "data": {
      "text/plain": [
       "0      202101044487\n",
       "1      202101044517\n",
       "2      202101044597\n",
       "3      202101044731\n",
       "4      202101044785\n",
       "           ...     \n",
       "379    202101094981\n",
       "380    202101095084\n",
       "381    202101095087\n",
       "382    202101095090\n",
       "383    202101095092\n",
       "Name: Folio_Interno, Length: 384, dtype: int64"
      ]
     },
     "execution_count": 71,
     "metadata": {},
     "output_type": "execute_result"
    }
   ],
   "source": [
    "#Dataframe.columna.isin(df2.columna)\n",
    "metadata.Folio_Interno.isin(data_miss.Genomes_Faltantes)"
   ]
  },
  {
   "cell_type": "markdown",
   "metadata": {},
   "source": [
    "## Lo que hace esta celda es unir tanto el DataFrame (metadata) y DataFrame (data_miss), pero unicamente con las columnas que le pides"
   ]
  },
  {
   "cell_type": "code",
   "execution_count": 78,
   "metadata": {},
   "outputs": [
    {
     "data": {
      "text/plain": [
       "pandas.core.series.Series"
      ]
     },
     "execution_count": 78,
     "metadata": {},
     "output_type": "execute_result"
    }
   ],
   "source": [
    "#pd.merge( DF1, DF2, left_on='nombrecolumnaEnDF1', right_on='nombrecolumnaEnDF2')\n",
    "merged = pd.merge( metadata, data_miss, left_on='Folio_Interno', right_on='Genomes_Faltantes')\n",
    "merged1= merged.ID_biblioteca_UGA\n",
    "\n"
   ]
  },
  {
   "cell_type": "code",
   "execution_count": 84,
   "metadata": {},
   "outputs": [],
   "source": [
    "merged_list = list(merged1)"
   ]
  },
  {
   "cell_type": "code",
   "execution_count": 82,
   "metadata": {},
   "outputs": [
    {
     "data": {
      "text/plain": [
       "list"
      ]
     },
     "execution_count": 82,
     "metadata": {},
     "output_type": "execute_result"
    }
   ],
   "source": [
    "type(merged_list)"
   ]
  },
  {
   "cell_type": "code",
   "execution_count": 87,
   "metadata": {},
   "outputs": [],
   "source": [
    "textfile = open(\"ID_biblioteca_UGA.txt\", \"w\")\n",
    "for element in merged_list:\n",
    "    textfile.write(str(element) + \"\\n\")\n",
    "textfile.close()"
   ]
  }
 ],
 "metadata": {
  "kernelspec": {
   "display_name": "Python 3",
   "language": "python",
   "name": "python3"
  },
  "language_info": {
   "codemirror_mode": {
    "name": "ipython",
    "version": 3
   },
   "file_extension": ".py",
   "mimetype": "text/x-python",
   "name": "python",
   "nbconvert_exporter": "python",
   "pygments_lexer": "ipython3",
   "version": "3.8.3"
  }
 },
 "nbformat": 4,
 "nbformat_minor": 4
}
